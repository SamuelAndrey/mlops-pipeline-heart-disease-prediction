{
 "cells": [
  {
   "cell_type": "markdown",
   "source": [
    "# username: samuel_andrey\n",
    "_notebook for model prediction testing_"
   ],
   "metadata": {
    "collapsed": false
   },
   "id": "3c9e669de236e151"
  },
  {
   "cell_type": "code",
   "execution_count": 62,
   "outputs": [],
   "source": [
    "import pandas as pd\n",
    "import tensorflow as tf\n",
    "import requests\n",
    "import json\n",
    "import base64"
   ],
   "metadata": {
    "collapsed": false,
    "ExecuteTime": {
     "end_time": "2024-04-14T07:46:10.502485400Z",
     "start_time": "2024-04-14T07:46:10.490285600Z"
    }
   },
   "id": "bef4e81834d4a655"
  },
  {
   "cell_type": "code",
   "execution_count": 63,
   "outputs": [],
   "source": [
    "data = pd.read_csv('data/heart.csv')\n",
    "\n",
    "ROW_TESTING = 1 # Change row testing from this\n",
    "\n",
    "HEART_DISEASE_LABELS = {\n",
    "    0: \"Normal\",\n",
    "    1: \"Heart Disease\"\n",
    "}"
   ],
   "metadata": {
    "collapsed": false,
    "ExecuteTime": {
     "end_time": "2024-04-14T07:46:10.533696200Z",
     "start_time": "2024-04-14T07:46:10.514939500Z"
    }
   },
   "id": "109497e55e50f2fa"
  },
  {
   "cell_type": "code",
   "execution_count": 64,
   "outputs": [
    {
     "data": {
      "text/plain": "{'Age': 49,\n 'Sex': 'F',\n 'ChestPainType': 'NAP',\n 'RestingBP': 160,\n 'Cholesterol': 180,\n 'FastingBS': 'No',\n 'RestingECG': 'Normal',\n 'MaxHR': 156,\n 'ExerciseAngina': 'N',\n 'Oldpeak': 1.0,\n 'ST_Slope': 'Flat',\n 'HeartDisease': 1}"
     },
     "execution_count": 64,
     "metadata": {},
     "output_type": "execute_result"
    }
   ],
   "source": [
    "data_test = data.iloc[ROW_TESTING, :12].to_dict()\n",
    "data_test"
   ],
   "metadata": {
    "collapsed": false,
    "ExecuteTime": {
     "end_time": "2024-04-14T07:46:10.552906200Z",
     "start_time": "2024-04-14T07:46:10.536953900Z"
    }
   },
   "id": "12cfa111b2d9192a"
  },
  {
   "cell_type": "code",
   "execution_count": 65,
   "outputs": [
    {
     "name": "stdout",
     "output_type": "stream",
     "text": [
      "Heart Disease\n"
     ]
    }
   ],
   "source": [
    "heart_disease_value = data_test[\"HeartDisease\"]\n",
    "heart_disease_label = HEART_DISEASE_LABELS.get(heart_disease_value, \"Unknown\")\n",
    "print(heart_disease_label)"
   ],
   "metadata": {
    "collapsed": false,
    "ExecuteTime": {
     "end_time": "2024-04-14T07:46:10.569053500Z",
     "start_time": "2024-04-14T07:46:10.548631600Z"
    }
   },
   "id": "96a954978672044a"
  },
  {
   "cell_type": "code",
   "execution_count": 66,
   "outputs": [
    {
     "data": {
      "text/plain": "{'Age': 49,\n 'Sex': 'F',\n 'ChestPainType': 'NAP',\n 'RestingBP': 160,\n 'Cholesterol': 180,\n 'FastingBS': 'No',\n 'RestingECG': 'Normal',\n 'MaxHR': 156,\n 'ExerciseAngina': 'N',\n 'Oldpeak': 1.0,\n 'ST_Slope': 'Flat'}"
     },
     "execution_count": 66,
     "metadata": {},
     "output_type": "execute_result"
    }
   ],
   "source": [
    "data_test = data.iloc[ROW_TESTING, :11].to_dict()\n",
    "data_test"
   ],
   "metadata": {
    "collapsed": false,
    "ExecuteTime": {
     "end_time": "2024-04-14T07:46:10.659059500Z",
     "start_time": "2024-04-14T07:46:10.565727900Z"
    }
   },
   "id": "2d64cb108d2b7795"
  },
  {
   "cell_type": "code",
   "execution_count": 67,
   "outputs": [],
   "source": [
    "def prepare_feature_spec(test_input: dict):\n",
    "    feature_spec = {}\n",
    "    for key, value in test_input.items():\n",
    "        if isinstance(value, float):\n",
    "            feature_spec[key] = tf.train.Feature(float_list=tf.train.FloatList(value=[value]))\n",
    "        elif isinstance(value, int):\n",
    "            feature_spec[key] = tf.train.Feature(int64_list=tf.train.Int64List(value=[value]))\n",
    "        elif isinstance(value, str):\n",
    "            feature_spec[key] = tf.train.Feature(bytes_list=tf.train.BytesList(value=[value.encode()]))\n",
    "    return feature_spec\n",
    "\n",
    "def serialize_example(feature_spec):\n",
    "    example = tf.train.Example(features=tf.train.Features(feature=feature_spec))\n",
    "    return example.SerializeToString()\n",
    "\n",
    "def encode_example(example):\n",
    "    return base64.b64encode(example).decode()\n",
    "\n",
    "def prepare_data(test_input):\n",
    "    feature_spec = prepare_feature_spec(test_input)\n",
    "    serialized_example = serialize_example(feature_spec)\n",
    "    encoded_example = encode_example(serialized_example)\n",
    "    return json.dumps({\n",
    "        \"signature_name\": \"serving_default\",\n",
    "        \"instances\": [{\n",
    "            \"examples\": {\"b64\": encoded_example}\n",
    "        }]\n",
    "    })"
   ],
   "metadata": {
    "collapsed": false,
    "ExecuteTime": {
     "end_time": "2024-04-14T07:46:10.660147600Z",
     "start_time": "2024-04-14T07:46:10.578475200Z"
    }
   },
   "id": "ccd430bc7efa7d70"
  },
  {
   "cell_type": "code",
   "execution_count": 68,
   "outputs": [
    {
     "name": "stdout",
     "output_type": "stream",
     "text": [
      "Prediction Result: Heart Disease\n",
      "   Actually Label: Heart Disease\n"
     ]
    }
   ],
   "source": [
    "json_data = prepare_data(data_test)\n",
    "\n",
    "endpoint = \"http://103.190.215.140:8501/v1/models/cc-model:predict\"\n",
    "response = requests.post(endpoint, data=json_data)\n",
    "\n",
    "predictions = response.json().get(\"predictions\")\n",
    "result = \"Normal\" if predictions and predictions[0][0] < 0.5 else \"Heart Disease\" if predictions else \"Error: No predictions found.\"\n",
    "\n",
    "print(\"Prediction Result: \" + result)\n",
    "print(\"   Actually Label: \" + heart_disease_label)"
   ],
   "metadata": {
    "collapsed": false,
    "ExecuteTime": {
     "end_time": "2024-04-14T07:46:11.275897200Z",
     "start_time": "2024-04-14T07:46:10.595930100Z"
    }
   },
   "id": "93479e201694fd5a"
  }
 ],
 "metadata": {
  "kernelspec": {
   "display_name": "Python 3",
   "language": "python",
   "name": "python3"
  },
  "language_info": {
   "codemirror_mode": {
    "name": "ipython",
    "version": 2
   },
   "file_extension": ".py",
   "mimetype": "text/x-python",
   "name": "python",
   "nbconvert_exporter": "python",
   "pygments_lexer": "ipython2",
   "version": "2.7.6"
  }
 },
 "nbformat": 4,
 "nbformat_minor": 5
}
